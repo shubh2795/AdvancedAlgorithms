{
  "nbformat": 4,
  "nbformat_minor": 0,
  "metadata": {
    "colab": {
      "name": "ShubhamSwami_Simple_nim_code_and_timing_code.ipynb",
      "provenance": [],
      "collapsed_sections": []
    },
    "kernelspec": {
      "name": "python3",
      "display_name": "Python 3"
    }
  },
  "cells": [
    {
      "cell_type": "markdown",
      "metadata": {
        "id": "Ydw9Op7DG-G_",
        "colab_type": "text"
      },
      "source": [
        "Simple nim code and timing code\n"
      ]
    },
    {
      "cell_type": "code",
      "metadata": {
        "id": "McVmr9QsUG0X",
        "colab_type": "code",
        "colab": {}
      },
      "source": [
        "import time\n",
        "import matplotlib.pyplot as plt\n",
        "import random\n",
        "from scipy import stats\n",
        "import numpy as np\n",
        "\n",
        "## Test function\n",
        "def test(n):\n",
        "  ##Declaring an array of n size and shuffling it\n",
        "  A = [*range(1, n, 1)] \n",
        "  random.shuffle(A)\n",
        "  A.sort()\n",
        "  # print(\"My program took\", elapsed, \"milliseconds to run for \", n, \"inputs\" )\n"
      ],
      "execution_count": null,
      "outputs": []
    },
    {
      "cell_type": "markdown",
      "metadata": {
        "id": "IAqgsB7blvlw",
        "colab_type": "text"
      },
      "source": [
        ""
      ]
    },
    {
      "cell_type": "code",
      "metadata": {
        "id": "gWuFYN_PilBs",
        "colab_type": "code",
        "colab": {}
      },
      "source": [
        "##Calculates the time taken by each function call and generates graph\n",
        "def showTime(start, end, interval, function):\n",
        "  #function takes a single integer argument\n",
        "  #runs the function with an input value starting at start to end by interval\n",
        "  #generates a graph of run time as a function of problem size\n",
        "    timeLine = []\n",
        "    end = end + interval\n",
        "    values = []\n",
        "    for n in range(start, end, interval):\n",
        "      start_time = time.time()\n",
        "      function(n)\n",
        "      elapsed = (time.time() - start_time)*1000.0\n",
        "      if elapsed > 0.0:\n",
        "        timeLine.append(elapsed)\n",
        "        values.append(n)\n",
        "    \n",
        "    nRange = [*range(start,end,interval)]\n",
        "    \n",
        "    ##Generating the plot between time taken by each function call with n as variable and n\n",
        "    plt.plot(nRange, timeLine, 'g')\n",
        "    plt.xlabel(\"n\")\n",
        "    plt.yscale('log')\n",
        "    plt.ylabel(\"time in milliseconds\")\n",
        "    plt.rcParams[\"figure.figsize\"] = [16,9]\n",
        "    plt.show()\n",
        "\n",
        "    slope, intercept, _, _, _ = stats.linregress([values], [np.log(t) for t in timeLine])\n",
        "    print(\"time = %.6f %.3f ^ n\" % (np.exp(intercept), np.exp(slope)))"
      ],
      "execution_count": null,
      "outputs": []
    },
    {
      "cell_type": "code",
      "metadata": {
        "id": "FM_t1TMxinoc",
        "colab_type": "code",
        "colab": {
          "base_uri": "https://localhost:8080/",
          "height": 548
        },
        "outputId": "921b8ccd-b005-488d-9a0d-0ec5a1717fd8"
      },
      "source": [
        "##Start and end are to specify the range of n. Change the below three variables accordingly.\n",
        "start = 10\n",
        "end = 20\n",
        "interval = 1\n",
        "showTime(start,end,interval, win)"
      ],
      "execution_count": null,
      "outputs": [
        {
          "output_type": "display_data",
          "data": {
            "image/png": "[encoded data removed]",
            "text/plain": [
              "<Figure size 1152x648 with 1 Axes>"
            ]
          },
          "metadata": {
            "tags": [],
            "needs_background": "light"
          }
        },
        {
          "output_type": "stream",
          "text": [
            "time = 0.000003 1.862 ^ n\n"
          ],
          "name": "stdout"
        },
        {
          "output_type": "stream",
          "text": [
            "/usr/local/lib/python3.6/dist-packages/scipy/stats/_stats_mstats_common.py:140: RuntimeWarning: invalid value encountered in sqrt\n",
            "  t = r * np.sqrt(df / ((1.0 - r + TINY)*(1.0 + r + TINY)))\n",
            "/usr/local/lib/python3.6/dist-packages/scipy/stats/_stats_mstats_common.py:142: RuntimeWarning: invalid value encountered in sqrt\n",
            "  sterrest = np.sqrt((1 - r**2) * ssym / ssxm / df)\n"
          ],
          "name": "stderr"
        }
      ]
    },
    {
      "cell_type": "code",
      "metadata": {
        "id": "8w9959WnMQdz",
        "colab_type": "code",
        "colab": {}
      },
      "source": [
        " def win(n) -> bool:\n",
        "        if n == 0:\n",
        "            return False\n",
        "        if n < 11:\n",
        "            return True\n",
        "        \n",
        "        result = True\n",
        "\n",
        "        for i in range(1,11):\n",
        "            result &= win(n-i)\n",
        "        return not result\n",
        "\n",
        "\n"
      ],
      "execution_count": null,
      "outputs": []
    },
    {
      "cell_type": "markdown",
      "metadata": {
        "id": "djdkinTlmF-B",
        "colab_type": "text"
      },
      "source": [
        "```\n",
        "New base of exponential function:\n",
        "2^n/10 < f(n) < 2^n\n",
        "⇒ f(n) = c*a^n\n",
        "⇒ log(f(n)) = n log a + log c\n",
        "⇒ log2 a = slope (From log graph)\n",
        "⇒ log2 a = (y2-y1)/(x2-x1)\n",
        "⇒ log2 a = 0.83\n",
        "⇒ a = 2^0.83\n",
        "⇒ a=1.777\n",
        "⇒ f(n) = c*1.777n\n",
        "\n",
        "\n",
        "\n",
        "\n",
        "```\n",
        "\n",
        "\n"
      ]
    },
    {
      "cell_type": "markdown",
      "metadata": {
        "id": "3P4myDJBmW0T",
        "colab_type": "text"
      },
      "source": [
        ""
      ]
    }
  ]
}