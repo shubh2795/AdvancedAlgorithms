{
  "nbformat": 4,
  "nbformat_minor": 0,
  "metadata": {
    "colab": {
      "name": "Untitled0.ipynb",
      "provenance": [],
      "collapsed_sections": []
    },
    "kernelspec": {
      "name": "python3",
      "display_name": "Python 3"
    }
  },
  "cells": [
    {
      "cell_type": "code",
      "metadata": {
        "id": "maboBCw0VFBG",
        "colab_type": "code",
        "colab": {}
      },
      "source": [
        "import numpy as np\n",
        "def weights_generator(M,avg_size):\n",
        "    rand_weights = np.random.randint(1, 2*avg_size + 1, M+1)\n",
        "    return  rand_weights"
      ],
      "execution_count": 40,
      "outputs": []
    },
    {
      "cell_type": "code",
      "metadata": {
        "id": "KAE80g66CzWp",
        "colab_type": "code",
        "colab": {}
      },
      "source": [
        "def testWeightsGenrator():\n",
        "  print(weights_generator(5,12))\n",
        "  "
      ],
      "execution_count": 46,
      "outputs": []
    },
    {
      "cell_type": "code",
      "metadata": {
        "id": "Vy-W54GuA4pq",
        "colab_type": "code",
        "colab": {}
      },
      "source": [
        "weights = []\n",
        "# 1 Recursive code with added base case\n",
        "def knapsack_recursive(m, n):\n",
        "    if n == 0:\n",
        "        return True\n",
        "    # -1 as I'm dealing with index and weights[0] is valid\n",
        "    if m == -1:\n",
        "        return False\n",
        "\n",
        "    if weights[m] > n:\n",
        "        return knapsack_recursive(m - 1, n)\n",
        "\n",
        "    else:\n",
        "        return (knapsack_recursive(m - 1, n - weights[m]) or knapsack_recursive(\n",
        "            m - 1, n))"
      ],
      "execution_count": null,
      "outputs": []
    },
    {
      "cell_type": "code",
      "metadata": {
        "id": "1f_dCSaPxbKY",
        "colab_type": "code",
        "colab": {
          "base_uri": "https://localhost:8080/",
          "height": 54
        },
        "outputId": "e1cfd768-6c94-4043-cad7-5b481c04e7f7"
      },
      "source": [
        "# 2 : Test the recursive function with some simple problems.\n",
        "weights =[8, 9,10 , 6, 7]\n",
        "n = 20\n",
        "m = len(weights)\n",
        "print(knapsack_recursive(m - 1, n))\n",
        "weights =[8, 9,10 , 6, 2,21]\n",
        "print(knapsack_recursive(m - 1, n))\n"
      ],
      "execution_count": 38,
      "outputs": [
        {
          "output_type": "stream",
          "text": [
            "False\n",
            "True\n"
          ],
          "name": "stdout"
        }
      ]
    },
    {
      "cell_type": "code",
      "metadata": {
        "id": "09CINVF_YNpT",
        "colab_type": "code",
        "colab": {}
      },
      "source": [
        "def knapsack_memoization(m, n, cache):\n",
        "\n",
        "    if n == 0:\n",
        "        return True\n",
        "        \n",
        "    if m == -1:\n",
        "        return False\n",
        "\n",
        "    if cache[n][m]:\n",
        "        return cache[n][m]\n",
        "\n",
        "    if weights[m] > n:\n",
        "        res = knapsack_memoization(m - 1, n, cache)\n",
        "        cache[n][m] = res\n",
        "        return res\n",
        "\n",
        "    else:\n",
        "        res = knapsack_memoization(m - 1, n - weights[m], cache) or knapsack_memoization(\n",
        "            m - 1, n, cache)\n",
        "        cache[n][m] = res\n",
        "        return res\n"
      ],
      "execution_count": null,
      "outputs": []
    },
    {
      "cell_type": "code",
      "metadata": {
        "id": "YOSLpUcrqCGN",
        "colab_type": "code",
        "colab": {}
      },
      "source": [
        "def knapsack_DP(m, n):\n",
        "    cache = [[False for i in range(0, m + 1)] for j in range(0, n + 1)]\n",
        "    # base cases n == 0 return true for m == 0 already false\n",
        "    for x in range(0, m + 1):\n",
        "        cache[0][x] = True\n",
        "\n",
        "    for i in range(1, m + 1):\n",
        "\n",
        "        for j in range(0, n + 1):\n",
        "            if weights[i - 1] > j:\n",
        "                cache[j][i] = cache[j][i - 1]\n",
        "            else:\n",
        "                cache[j][i] = cache[j - weights[i - 1]][i - 1] or cache[j][i - 1]\n",
        "\n",
        "    return cache[n][m]\n"
      ],
      "execution_count": null,
      "outputs": []
    },
    {
      "cell_type": "code",
      "metadata": {
        "id": "vm2Gstly7tAD",
        "colab_type": "code",
        "colab": {
          "base_uri": "https://localhost:8080/",
          "height": 35
        },
        "outputId": "0da15a39-8026-40db-929b-9887d7d39f58"
      },
      "source": [
        "#part6:\n",
        "for i in range(1,101):\n",
        "  weights =weights_generator(5,12)\n",
        "  m = len(weights)\n",
        "  n=20\n",
        "  cache = [[False for i in range(0, m + 1)] for j in range(0, n + 1)]\n",
        "  a = knapsack_DP(m,n)\n",
        "  b = knapsack_memoization(m-1,n,cache)\n",
        "  if (a !=b ):\n",
        "    print(\"Failed: Output of DP and Memo function is different\")\n",
        "print(\"Both the methods return same output for the test cases\")\n"
      ],
      "execution_count": 47,
      "outputs": [
        {
          "output_type": "stream",
          "text": [
            "Both the methods return same output for the test cases\n"
          ],
          "name": "stdout"
        }
      ]
    },
    {
      "cell_type": "code",
      "metadata": {
        "id": "LvNcDLiRA9gw",
        "colab_type": "code",
        "colab": {}
      },
      "source": [
        "##Calculates the time taken by each function call and generates graph\n",
        "def showTime(start, end, interval, function, initFunction = None, exponentialFit = True):\n",
        "  #function takes a single integer argument\n",
        "  #runs the function with an input value starting at start to end by interval\n",
        "  #generates a graph of run time as a function of problem size\n",
        "    timeLine = []\n",
        "    end = end + interval\n",
        "    values = []\n",
        "    for n in range(start, end, interval):\n",
        "      start_time = time.time()\n",
        "      if not initFunction == None: #call init function if needed\n",
        "        initFunction()\n",
        "      function(n)\n",
        "      elapsed = (time.time() - start_time)*1000.0\n",
        "      if elapsed > 0.0:\n",
        "        timeLine.append(elapsed)\n",
        "        values.append(n)\n",
        "    \n",
        "    nRange = [*range(start,end,interval)]\n",
        "    \n",
        "    ##Generating the plot between time taken by each function call with n as variable and n\n",
        "    plt.plot(nRange, timeLine, 'g')\n",
        "    plt.xlabel(\"n\")\n",
        "    if not exponentialFit:\n",
        "      plt.xscale('log')\n",
        "    plt.yscale('log')\n",
        "    plt.ylabel(\"time in milliseconds\")\n",
        "    plt.rcParams[\"figure.figsize\"] = [16,9]\n",
        "    plt.show()\n",
        "    if exponentialFit: #complexity is of the form time = c a^n\n",
        "      slope, intercept, _, _, _ = stats.linregress([values], [np.log(t) for t in timeLine])\n",
        "      print(\"Fit run time function is:\\n    time(n) = %.6f  %.3f ^n\" % (np.exp(intercept), np.exp(slope)))\n",
        "    else: #complexity is of the form time = c n^b\n",
        "      slope, intercept, _, _, _ = stats.linregress([np.log(v) for v in values], [np.log(t) for t in timeLine])\n",
        "      print(\"Fit run time function is:\\n    time(n) = %.6f  n^ %.3f\" % (np.exp(intercept), slope))"
      ],
      "execution_count": null,
      "outputs": []
    }
  ]
}