{
  "nbformat": 4,
  "nbformat_minor": 0,
  "metadata": {
    "colab": {
      "name": "Copy of GymRendering.ipynb",
      "provenance": [],
      "collapsed_sections": []
    },
    "kernelspec": {
      "name": "python3",
      "display_name": "Python 3"
    },
    "accelerator": "GPU"
  },
  "cells": [
    {
      "cell_type": "code",
      "metadata": {
        "id": "1XDvssQd64Pf"
      },
      "source": [
        "!apt-get install -y xvfb x11-utils# install required python dependencies\r\n",
        "!apt-get install x11-utils\r\n",
        "!pip install gym[box2d]==0.17.* \\\r\n",
        "            pyvirtualdisplay==0.2.* \\\r\n",
        "            PyOpenGL==3.1.* \\\r\n",
        "            PyOpenGL-accelerate==3.1.*\r\n",
        "    \r\n",
        "!apt-get install -y xvfb python-opengl > /dev/null 2>&1\r\n",
        "!pip install gym pyvirtualdisplay > /dev/null 2>&1\r\n",
        "!pip install seaborn"
      ],
      "execution_count": null,
      "outputs": []
    },
    {
      "cell_type": "code",
      "metadata": {
        "id": "Qbi2xaFo31Sj"
      },
      "source": [
        "import gym\n",
        "import numpy as np\n",
        "import matplotlib.pyplot as plt\n",
        "from IPython import display as ipythondisplay\n",
        "from pyvirtualdisplay import Display\n",
        "import autograd.numpy as np\n",
        "from autograd import grad, elementwise_grad\n",
        "import random\n",
        "from IPython import display\n",
        "import math\n",
        "import seaborn as sns\n",
        "import csv\n",
        "import sys"
      ],
      "execution_count": 11,
      "outputs": []
    },
    {
      "cell_type": "markdown",
      "metadata": {
        "id": "l6jOdziPJljL"
      },
      "source": [
        "```\r\n",
        "This submission has both Q learning and Value Iteration Algorithm for the cartpole balance problem in gym.\r\n",
        "The plots are included for both the algorithms and this problem was good enough to learn the Q learning and Value Iteration algorithm.\r\n",
        "```"
      ]
    },
    {
      "cell_type": "code",
      "metadata": {
        "id": "XiQGx1ep0dsX"
      },
      "source": [
        "class CartPoleQAgent():\r\n",
        "    def __init__(self, buckets=(3, 3, 6, 6), \r\n",
        "                 num_episodes=500, min_lr=0.1, \r\n",
        "                 min_epsilon=0.1, discount=1.0, decay=25):\r\n",
        "        self.buckets = buckets\r\n",
        "        self.num_episodes = num_episodes\r\n",
        "        self.min_lr = min_lr\r\n",
        "        self.min_epsilon = min_epsilon\r\n",
        "        self.discount = discount\r\n",
        "        self.decay = decay\r\n",
        "        self.env = gym.make('CartPole-v0')\r\n",
        "        self.Q_table = np.zeros(self.buckets + (self.env.action_space.n,))\r\n",
        "        self.upper_bounds = [self.env.observation_space.high[0], 0.5, self.env.observation_space.high[2], math.radians(50) / 1.]\r\n",
        "        self.lower_bounds = [self.env.observation_space.low[0], -0.5, self.env.observation_space.low[2], -math.radians(50) / 1.]\r\n",
        "        self.steps = np.zeros(self.num_episodes)\r\n",
        "        \r\n",
        "    def discretize_state(self, obs):\r\n",
        "        discretized = list()\r\n",
        "        for i in range(len(obs)):\r\n",
        "            scaling = ((obs[i] + abs(self.lower_bounds[i])) \r\n",
        "                       / (self.upper_bounds[i] - self.lower_bounds[i]))\r\n",
        "            new_obs = int(round((self.buckets[i] - 1) * scaling))\r\n",
        "            new_obs = min(self.buckets[i] - 1, max(0, new_obs))\r\n",
        "            discretized.append(new_obs)\r\n",
        "        return tuple(discretized)\r\n",
        "\r\n",
        "    def choose_action(self, state):\r\n",
        "        if (np.random.random() < self.epsilon):\r\n",
        "            return self.env.action_space.sample() \r\n",
        "        else:\r\n",
        "            return np.argmax(self.Q_table[state])\r\n",
        "        \r\n",
        "    def get_action(self, state, e):\r\n",
        "        obs = self.discretize_state(state)\r\n",
        "        action_vector = self.Q_table[obs]\r\n",
        "        epsilon = self.get_epsilon(e)\r\n",
        "        action_vector = self.normalize(action_vector, epsilon)\r\n",
        "        return action_vector\r\n",
        "\r\n",
        "    def normalize(self, action_vector, epsilon):\r\n",
        "        total = sum(action_vector)\r\n",
        "        new_vector = (1-epsilon)*action_vector/(total)\r\n",
        "        new_vector += epsilon/2.0\r\n",
        "        return new_vector\r\n",
        "\r\n",
        "    def update_q(self, state, action, reward, new_state):\r\n",
        "        self.Q_table[state][action] += (self.learning_rate * \r\n",
        "                                        (reward \r\n",
        "                                         + self.discount * np.max(self.Q_table[new_state]) \r\n",
        "                                         - self.Q_table[state][action]))\r\n",
        "\r\n",
        "    def get_epsilon(self, t):\r\n",
        "        return max(self.min_epsilon, min(1., 1. - math.log10((t + 1) / self.decay)))\r\n",
        "\r\n",
        "    def get_learning_rate(self, t):\r\n",
        "        return max(self.min_lr, min(1., 1. - math.log10((t + 1) / self.decay)))\r\n",
        "\r\n",
        "    def train(self):\r\n",
        "        for e in range(self.num_episodes):\r\n",
        "            current_state = self.discretize_state(self.env.reset())\r\n",
        "            self.learning_rate = self.get_learning_rate(e)\r\n",
        "            self.epsilon = self.get_epsilon(e)\r\n",
        "            done = False\r\n",
        "            while not done:\r\n",
        "                self.steps[e] += 1\r\n",
        "                action = self.choose_action(current_state)\r\n",
        "                obs, reward, done, _ = self.env.step(action)\r\n",
        "                new_state = self.discretize_state(obs)\r\n",
        "                self.update_q(current_state, action, reward, new_state)\r\n",
        "                current_state = new_state\r\n",
        "                \r\n",
        "        print('Finished training!')\r\n",
        "    \r\n",
        "    def plot_learning(self):\r\n",
        "        sns.lineplot(range(len(self.steps)),self.steps)\r\n",
        "        plt.xlabel(\"Episode\")\r\n",
        "        plt.ylabel(\"Steps\")\r\n",
        "        plt.show()\r\n",
        "        t = 0\r\n",
        "        for i in range(self.num_episodes):\r\n",
        "            if self.steps[i] == 200:\r\n",
        "                t+=1\r\n",
        "        print(t, \"episodes were successfully completed.\")\r\n",
        "    \r\n",
        "    def run(self):\r\n",
        "        \"\"\"Runs an episode while displaying the cartpole environment.\"\"\"\r\n",
        "        self.env = gym.wrappers.Monitor(self.env,'cartpole')\r\n",
        "        t = 0\r\n",
        "        done = False\r\n",
        "        current_state = self.discretize_state(self.env.reset())\r\n",
        "        while not done:\r\n",
        "                screen =self.env.render(mode=\"rgb_array\")\r\n",
        "                t = t+1\r\n",
        "                action = self.choose_action(current_state)\r\n",
        "                obs, reward, done, _ = self.env.step(action)\r\n",
        "                new_state = self.discretize_state(obs)\r\n",
        "                current_state = new_state\r\n",
        "                plt.imshow(screen)\r\n",
        "                ipythondisplay.clear_output(wait=True)\r\n",
        "                ipythondisplay.display(plt.gcf())\r\n",
        "\r\n",
        "        ipythondisplay.clear_output(wait=True)\r\n",
        "        env.close()\r\n",
        "            \r\n",
        "        return t"
      ],
      "execution_count": null,
      "outputs": []
    },
    {
      "cell_type": "code",
      "metadata": {
        "id": "CsIp1myy7LYn"
      },
      "source": [
        "def load_q_learning():\r\n",
        "    agent = CartPoleQAgent()\r\n",
        "    agent.train()\r\n",
        "    agent.plot_learning()\r\n",
        "\r\n",
        "    return agent"
      ],
      "execution_count": null,
      "outputs": []
    },
    {
      "cell_type": "code",
      "metadata": {
        "colab": {
          "base_uri": "https://localhost:8080/",
          "height": 373
        },
        "id": "yaq5vCZZ7Nbr",
        "outputId": "0793218e-8a02-465f-dee5-b5e2be5582c4"
      },
      "source": [
        "agent = load_q_learning()"
      ],
      "execution_count": null,
      "outputs": [
        {
          "output_type": "stream",
          "text": [
            "Finished training!\n"
          ],
          "name": "stdout"
        },
        {
          "output_type": "stream",
          "text": [
            "/usr/local/lib/python3.6/dist-packages/seaborn/_decorators.py:43: FutureWarning: Pass the following variables as keyword args: x, y. From version 0.12, the only valid positional argument will be `data`, and passing other arguments without an explicit keyword will result in an error or misinterpretation.\n",
            "  FutureWarning\n"
          ],
          "name": "stderr"
        },
        {
          "output_type": "display_data",
          "data": {
            "image/png": "[encoded data removed]",
            "text/plain": [
              "<Figure size 432x288 with 1 Axes>"
            ]
          },
          "metadata": {
            "tags": [],
            "needs_background": "light"
          }
        },
        {
          "output_type": "stream",
          "text": [
            "292 episodes were successfully completed.\n"
          ],
          "name": "stdout"
        }
      ]
    },
    {
      "cell_type": "markdown",
      "metadata": {
        "id": "6Jk_qr649gSR"
      },
      "source": [
        "```\r\n",
        "Plots the number of steps at each episode and prints the\r\n",
        "amount of times that an episode was successfully completed.\r\n",
        "```"
      ]
    },
    {
      "cell_type": "code",
      "metadata": {
        "colab": {
          "base_uri": "https://localhost:8080/",
          "height": 302
        },
        "id": "EmDq9laQwdgz",
        "outputId": "4418b5f1-980d-41c4-da36-79d75e1ebaaf"
      },
      "source": [
        "def approx(weights, state, action):\r\n",
        "    return np.dot(state, weights)[action]\r\n",
        "\r\n",
        "def policy(env, weights, state, epsilon):\r\n",
        "    actions = [0, 1]\r\n",
        "    if np.random.rand() < epsilon:\r\n",
        "        return random.choice(actions)\r\n",
        "    qs = []\r\n",
        "    for action in actions:\r\n",
        "        qs.append(approx(weights, state, action))\r\n",
        "    return np.argmax(qs)\r\n",
        "\r\n",
        "gradientApprox = grad(approx)\r\n",
        "episodes = 10000\r\n",
        "discount = 0.95\r\n",
        "epsilon = 0.1\r\n",
        "alpha = 0.1\r\n",
        "\r\n",
        "env = gym.make('CartPole-v0')\r\n",
        "epRewards = []\r\n",
        "w = np.zeros((4,2))\r\n",
        "for e in range(episodes):\r\n",
        "    state = env.reset()\r\n",
        "    rewards = []\r\n",
        "    while True:\r\n",
        "        action = policy(env, w, state, epsilon)\r\n",
        "        q_hat = approx(w, state, action)\r\n",
        "        q_hat_grad = gradientApprox(w, state, action)\r\n",
        "        next_state, reward, done, _ = env.step(action)\r\n",
        "        rewards.append(reward)\r\n",
        "        if done:\r\n",
        "            w += alpha*(reward - q_hat) * q_hat_grad\r\n",
        "            break\r\n",
        "        else:\r\n",
        "            next_action = policy(env, w, next_state, epsilon)\r\n",
        "            q_hat_next = approx(w, next_state, next_action)\r\n",
        "            w += alpha*(reward - discount*q_hat_next)*q_hat_grad\r\n",
        "            state = next_state\r\n",
        "    epRewards.append(np.sum(rewards))\r\n",
        "    \r\n",
        "for i, _ in enumerate(epRewards):\r\n",
        "    if i + 100 >= len(epRewards):\r\n",
        "        break\r\n",
        "    else:\r\n",
        "        mean = np.mean(epRewards[i:i+100])\r\n",
        "        if mean >= 195:\r\n",
        "            print(\"Episodes before solving: \", i+1)\r\n",
        "            break\r\n",
        "\r\n",
        "plt.plot(epRewards)"
      ],
      "execution_count": 17,
      "outputs": [
        {
          "output_type": "stream",
          "text": [
            "Episodes before solving:  96\n"
          ],
          "name": "stdout"
        },
        {
          "output_type": "execute_result",
          "data": {
            "text/plain": [
              "[<matplotlib.lines.Line2D at 0x7f8882cfbeb8>]"
            ]
          },
          "metadata": {
            "tags": []
          },
          "execution_count": 17
        },
        {
          "output_type": "display_data",
          "data": {
            "image/png": "[encoded data removed]",
            "text/plain": [
              "<Figure size 432x288 with 1 Axes>"
            ]
          },
          "metadata": {
            "tags": [],
            "needs_background": "light"
          }
        }
      ]
    },
    {
      "cell_type": "code",
      "metadata": {
        "id": "FGqXqJxoAsHG",
        "colab": {
          "base_uri": "https://localhost:8080/"
        },
        "outputId": "7acfd76d-4432-45dc-832d-67c86350645e"
      },
      "source": [
        "from pyvirtualdisplay import Display\n",
        "display = Display(visible=0, size=(400, 300))\n",
        "display.start()"
      ],
      "execution_count": 18,
      "outputs": [
        {
          "output_type": "execute_result",
          "data": {
            "text/plain": [
              "<Display cmd_param=['Xvfb', '-br', '-nolisten', 'tcp', '-screen', '0', '400x300x24', ':1009'] cmd=['Xvfb', '-br', '-nolisten', 'tcp', '-screen', '0', '400x300x24', ':1009'] oserror=None return_code=None stdout=\"None\" stderr=\"None\" timeout_happened=False>"
            ]
          },
          "metadata": {
            "tags": []
          },
          "execution_count": 18
        }
      ]
    },
    {
      "cell_type": "code",
      "metadata": {
        "colab": {
          "base_uri": "https://localhost:8080/",
          "height": 269
        },
        "id": "QtFD5PxHOmNw",
        "outputId": "769d70fc-38af-47f5-dd47-9c3c74bf921b"
      },
      "source": [
        "\r\n",
        "\r\n",
        "env = gym.make(\"CartPole-v0\")\r\n",
        "env.reset()\r\n",
        "prev_screen = env.render(mode='rgb_array')\r\n",
        "plt.imshow(prev_screen)\r\n",
        "\r\n",
        "for i in range(50):\r\n",
        "  action = env.action_space.sample()\r\n",
        "  obs, reward, done, info = env.step(action)\r\n",
        "  screen = env.render(mode='rgb_array')\r\n",
        "  \r\n",
        "  plt.imshow(screen)\r\n",
        "  ipythondisplay.clear_output(wait=True)\r\n",
        "  ipythondisplay.display(plt.gcf())\r\n",
        "\r\n",
        "  if done:\r\n",
        "    break\r\n",
        "    \r\n",
        "ipythondisplay.clear_output(wait=True)\r\n",
        "env.close()\r\n"
      ],
      "execution_count": 19,
      "outputs": [
        {
          "output_type": "display_data",
          "data": {
            "image/png": "[encoded data removed]",
            "text/plain": [
              "<Figure size 432x288 with 1 Axes>"
            ]
          },
          "metadata": {
            "tags": [],
            "needs_background": "light"
          }
        }
      ]
    },
    {
      "cell_type": "code",
      "metadata": {
        "colab": {
          "base_uri": "https://localhost:8080/"
        },
        "id": "b-shCy1hOzFv",
        "outputId": "f7ee48ae-db50-4eb2-915d-f4c9d3dcbc94"
      },
      "source": [
        "display.stop()"
      ],
      "execution_count": 20,
      "outputs": [
        {
          "output_type": "execute_result",
          "data": {
            "text/plain": [
              "<Display cmd_param=['Xvfb', '-br', '-nolisten', 'tcp', '-screen', '0', '400x300x24', ':1009'] cmd=['Xvfb', '-br', '-nolisten', 'tcp', '-screen', '0', '400x300x24', ':1009'] oserror=None return_code=0 stdout=\"\" stderr=\"\" timeout_happened=False>"
            ]
          },
          "metadata": {
            "tags": []
          },
          "execution_count": 20
        }
      ]
    }
  ]
}